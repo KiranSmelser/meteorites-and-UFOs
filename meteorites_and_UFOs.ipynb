{
 "cells": [
  {
   "cell_type": "code",
   "execution_count": 1,
   "metadata": {
    "id": "P9qR848Sp_w9"
   },
   "outputs": [],
   "source": [
    "import pandas as pd\n",
    "import numpy as np\n",
    "import matplotlib.pyplot as plt\n",
    "from sklearn.cluster import KMeans"
   ]
  },
  {
   "cell_type": "markdown",
   "metadata": {
    "id": "EGNk4XPs5tiL"
   },
   "source": [
    "# Extract"
   ]
  },
  {
   "cell_type": "code",
   "execution_count": 2,
   "metadata": {
    "colab": {
     "base_uri": "https://localhost:8080/"
    },
    "id": "CNyFfV0U4Kcw",
    "outputId": "2e28b89e-8d2e-4462-c2b3-b1d28eaa1a4e"
   },
   "outputs": [
    {
     "name": "stderr",
     "output_type": "stream",
     "text": [
      "/opt/ohpc/pub/apps/python/3.8.2/lib/python3.8/site-packages/IPython/core/interactiveshell.py:3062: DtypeWarning: Columns (5,9) have mixed types.Specify dtype option on import or set low_memory=False.\n",
      "  has_raised = await self.run_ast_nodes(code_ast.body, cell_name,\n"
     ]
    }
   ],
   "source": [
    "# Import datasets\n",
    "meteorites = pd.read_csv(\"https://drive.google.com/file/d/1egSv0xRq7hNw9W08br0u4Zdx-7F9sRZf/view?usp=share_link\")\n",
    "ufos = pd.read_csv(\"https://drive.google.com/file/d/1rrZJPgan0YCH-W0S8acoJI4iWqfPkgtr/view?usp=share_link\")"
   ]
  },
  {
   "cell_type": "markdown",
   "metadata": {
    "id": "RrW3X7qr5VJx"
   },
   "source": [
    "## Explore"
   ]
  },
  {
   "cell_type": "markdown",
   "metadata": {
    "id": "Wuu92M0_6kJ1"
   },
   "source": [
    "Based on this initial exploration of the datasets I noticed that the datatype of the 'latitude' column in the ufo sightings dataset was object rather than float64. I also noticed, that the 'reclat' and 'reclong' columns of the meteorite landings dataset had an equal number of NaN values that will eventually need to be dropped. "
   ]
  },
  {
   "cell_type": "code",
   "execution_count": 3,
   "metadata": {
    "colab": {
     "base_uri": "https://localhost:8080/"
    },
    "id": "IAk9XJ7268F_",
    "outputId": "6bf3b0ae-5ce5-4cc4-f150-3868e03e3adb"
   },
   "outputs": [
    {
     "name": "stdout",
     "output_type": "stream",
     "text": [
      "       name   id nametype     recclass  mass (g)  fall    year    reclat  \\\n",
      "0    Aachen    1    Valid           L5      21.0  Fell  1880.0  50.77500   \n",
      "1    Aarhus    2    Valid           H6     720.0  Fell  1951.0  56.18333   \n",
      "2      Abee    6    Valid          EH4  107000.0  Fell  1952.0  54.21667   \n",
      "3  Acapulco   10    Valid  Acapulcoite    1914.0  Fell  1976.0  16.88333   \n",
      "4   Achiras  370    Valid           L6     780.0  Fell  1902.0 -33.16667   \n",
      "\n",
      "     reclong           GeoLocation  States  Counties  \n",
      "0    6.08333     (50.775, 6.08333)     NaN       NaN  \n",
      "1   10.23333  (56.18333, 10.23333)     NaN       NaN  \n",
      "2 -113.00000    (54.21667, -113.0)     NaN       NaN  \n",
      "3  -99.90000     (16.88333, -99.9)     NaN       NaN  \n",
      "4  -64.95000   (-33.16667, -64.95)     NaN       NaN  \n",
      "          Date_time                  city state/province country UFO_shape  \\\n",
      "0  10/10/1949 20:30            san marcos             tx      us  cylinder   \n",
      "1  10/10/1949 21:00          lackland afb             tx     NaN     light   \n",
      "2  10/10/1955 17:00  chester (uk/england)            NaN      gb    circle   \n",
      "3  10/10/1956 21:00                  edna             tx      us    circle   \n",
      "4  10/10/1960 20:00               kaneohe             hi      us     light   \n",
      "\n",
      "  length_of_encounter_seconds described_duration_of_encounter  \\\n",
      "0                        2700                      45 minutes   \n",
      "1                        7200                         1-2 hrs   \n",
      "2                          20                      20 seconds   \n",
      "3                          20                        1/2 hour   \n",
      "4                         900                      15 minutes   \n",
      "\n",
      "                                         description date_documented  \\\n",
      "0  This event took place in early fall around 194...       4/27/2004   \n",
      "1  1949 Lackland AFB&#44 TX.  Lights racing acros...      12/16/2005   \n",
      "2  Green/Orange circular disc over Chester&#44 En...       1/21/2008   \n",
      "3  My older brother and twin sister were leaving ...       1/17/2004   \n",
      "4  AS a Marine 1st Lt. flying an FJ4B fighter/att...       1/22/2004   \n",
      "\n",
      "     latitude   longitude  \n",
      "0  29.8830556  -97.941111  \n",
      "1    29.38421  -98.581082  \n",
      "2        53.2   -2.916667  \n",
      "3  28.9783333  -96.645833  \n",
      "4  21.4180556 -157.803611  \n"
     ]
    }
   ],
   "source": [
    "# First five rows of the raw data\n",
    "print(meteorites.head())\n",
    "print(ufos.head())"
   ]
  },
  {
   "cell_type": "code",
   "execution_count": 4,
   "metadata": {
    "colab": {
     "base_uri": "https://localhost:8080/"
    },
    "id": "P3rgh9et7Cl3",
    "outputId": "ac70c2a1-54ce-48ee-b3b2-1e0e26a861e3"
   },
   "outputs": [
    {
     "name": "stdout",
     "output_type": "stream",
     "text": [
      "                 id      mass (g)          year        reclat       reclong  \\\n",
      "count  45716.000000  4.558500e+04  45425.000000  38401.000000  38401.000000   \n",
      "mean   26889.735104  1.327808e+04   1991.828817    -39.122580     61.074319   \n",
      "std    16860.683030  5.749889e+05     25.052766     46.378511     80.647298   \n",
      "min        1.000000  0.000000e+00    860.000000    -87.366670   -165.433330   \n",
      "25%    12688.750000  7.200000e+00   1987.000000    -76.714240      0.000000   \n",
      "50%    24261.500000  3.260000e+01   1998.000000    -71.500000     35.666670   \n",
      "75%    40656.750000  2.026000e+02   2003.000000      0.000000    157.166670   \n",
      "max    57458.000000  6.000000e+07   2101.000000     81.166670    354.473330   \n",
      "\n",
      "            States     Counties  \n",
      "count  1659.000000  1659.000000  \n",
      "mean     17.337553  1353.331525  \n",
      "std      10.410888   994.089259  \n",
      "min       1.000000     5.000000  \n",
      "25%       9.000000   482.000000  \n",
      "50%      15.000000  1195.000000  \n",
      "75%      23.000000  2113.000000  \n",
      "max      51.000000  3210.000000  \n",
      "          longitude\n",
      "count  80332.000000\n",
      "mean     -86.772885\n",
      "std       39.697205\n",
      "min     -176.658056\n",
      "25%     -112.073333\n",
      "50%      -87.903611\n",
      "75%      -78.755000\n",
      "max      178.441900\n"
     ]
    }
   ],
   "source": [
    "# Summary statistics\n",
    "print(meteorites.describe())\n",
    "print(ufos.describe())"
   ]
  },
  {
   "cell_type": "code",
   "execution_count": 5,
   "metadata": {
    "colab": {
     "base_uri": "https://localhost:8080/"
    },
    "id": "A7wZvt9B47k7",
    "outputId": "ac44f8e7-cdde-4ca3-f2fd-79d3a9390a39"
   },
   "outputs": [
    {
     "name": "stdout",
     "output_type": "stream",
     "text": [
      "(45716, 12)\n",
      "(80332, 11)\n"
     ]
    }
   ],
   "source": [
    "# Dimensions of the dataframes\n",
    "print(meteorites.shape)\n",
    "print(ufos.shape)"
   ]
  },
  {
   "cell_type": "code",
   "execution_count": 6,
   "metadata": {
    "colab": {
     "base_uri": "https://localhost:8080/"
    },
    "id": "yGWsM77a6RER",
    "outputId": "2603b31c-103e-45b2-f3e6-a273d5674d4a"
   },
   "outputs": [
    {
     "name": "stdout",
     "output_type": "stream",
     "text": [
      "Index(['name', 'id', 'nametype', 'recclass', 'mass (g)', 'fall', 'year',\n",
      "       'reclat', 'reclong', 'GeoLocation', 'States', 'Counties'],\n",
      "      dtype='object')\n",
      "Index(['Date_time', 'city', 'state/province', 'country', 'UFO_shape',\n",
      "       'length_of_encounter_seconds', 'described_duration_of_encounter',\n",
      "       'description', 'date_documented', 'latitude', 'longitude'],\n",
      "      dtype='object')\n"
     ]
    }
   ],
   "source": [
    "# Columns' names\n",
    "print(meteorites.columns)\n",
    "print(ufos.columns)"
   ]
  },
  {
   "cell_type": "code",
   "execution_count": 7,
   "metadata": {
    "colab": {
     "base_uri": "https://localhost:8080/"
    },
    "id": "BVFzyrcv6YzZ",
    "outputId": "6cbfc589-98a2-4643-9852-cbde9f08c28a"
   },
   "outputs": [
    {
     "name": "stdout",
     "output_type": "stream",
     "text": [
      "name            object\n",
      "id               int64\n",
      "nametype        object\n",
      "recclass        object\n",
      "mass (g)       float64\n",
      "fall            object\n",
      "year           float64\n",
      "reclat         float64\n",
      "reclong        float64\n",
      "GeoLocation     object\n",
      "States         float64\n",
      "Counties       float64\n",
      "dtype: object\n",
      "Date_time                           object\n",
      "city                                object\n",
      "state/province                      object\n",
      "country                             object\n",
      "UFO_shape                           object\n",
      "length_of_encounter_seconds         object\n",
      "described_duration_of_encounter     object\n",
      "description                         object\n",
      "date_documented                     object\n",
      "latitude                            object\n",
      "longitude                          float64\n",
      "dtype: object\n"
     ]
    }
   ],
   "source": [
    "# Datatypes of the columns\n",
    "print(meteorites.dtypes)\n",
    "print(ufos.dtypes)"
   ]
  },
  {
   "cell_type": "code",
   "execution_count": 8,
   "metadata": {
    "colab": {
     "base_uri": "https://localhost:8080/"
    },
    "id": "bnQ9mOpI6e5G",
    "outputId": "0af9c95e-01d0-4e65-bbe0-a1289f370aaa"
   },
   "outputs": [
    {
     "name": "stdout",
     "output_type": "stream",
     "text": [
      "name               0\n",
      "id                 0\n",
      "nametype           0\n",
      "recclass           0\n",
      "mass (g)         131\n",
      "fall               0\n",
      "year             291\n",
      "reclat          7315\n",
      "reclong         7315\n",
      "GeoLocation     7315\n",
      "States         44057\n",
      "Counties       44057\n",
      "dtype: int64\n",
      "Date_time                             0\n",
      "city                                  0\n",
      "state/province                     5797\n",
      "country                            9670\n",
      "UFO_shape                          1932\n",
      "length_of_encounter_seconds           0\n",
      "described_duration_of_encounter       0\n",
      "description                          15\n",
      "date_documented                       0\n",
      "latitude                              0\n",
      "longitude                             0\n",
      "dtype: int64\n"
     ]
    }
   ],
   "source": [
    "# Number of NaN values in the dataframes\n",
    "print(meteorites.isna().sum())\n",
    "print(ufos.isna().sum())"
   ]
  },
  {
   "cell_type": "markdown",
   "metadata": {
    "id": "3FN49Bes5HuV"
   },
   "source": [
    "# Transform"
   ]
  },
  {
   "cell_type": "markdown",
   "metadata": {
    "id": "hpQqSbU7L7BI"
   },
   "source": [
    "## Clean"
   ]
  },
  {
   "cell_type": "code",
   "execution_count": 9,
   "metadata": {
    "id": "HVSbK__dBD2z"
   },
   "outputs": [],
   "source": [
    "# Create unique identifier for each ufo sighting\n",
    "ufos['id'] = ufos.index"
   ]
  },
  {
   "cell_type": "code",
   "execution_count": 10,
   "metadata": {
    "id": "l75hyA2YZPSP"
   },
   "outputs": [],
   "source": [
    "# Remove unnecessary columns\n",
    "ufos_by_location = ufos[['id', 'latitude', 'longitude']]\n",
    "meteorites_by_location = meteorites[['id', 'reclat', 'reclong']]"
   ]
  },
  {
   "cell_type": "code",
   "execution_count": 11,
   "metadata": {
    "colab": {
     "base_uri": "https://localhost:8080/"
    },
    "id": "qlhQ0XnqcsO9",
    "outputId": "67bc7043-a1e4-4be0-9c96-43bab540a82e"
   },
   "outputs": [
    {
     "name": "stderr",
     "output_type": "stream",
     "text": [
      "<ipython-input-11-80efafa60b6f>:2: SettingWithCopyWarning: \n",
      "A value is trying to be set on a copy of a slice from a DataFrame.\n",
      "Try using .loc[row_indexer,col_indexer] = value instead\n",
      "\n",
      "See the caveats in the documentation: https://pandas.pydata.org/pandas-docs/stable/user_guide/indexing.html#returning-a-view-versus-a-copy\n",
      "  ufos_by_location['latitude'] = pd.to_numeric(ufos_by_location['latitude'], errors='coerce')\n"
     ]
    }
   ],
   "source": [
    "# Convert object types to float64 and drop the row that contains a value that could not be converted\n",
    "ufos_by_location['latitude'] = pd.to_numeric(ufos_by_location['latitude'], errors='coerce')\n",
    "ufos_by_location = ufos_by_location.dropna()"
   ]
  },
  {
   "cell_type": "code",
   "execution_count": 12,
   "metadata": {
    "id": "6TPuRFvZk98_"
   },
   "outputs": [],
   "source": [
    "# Drop all NaN values\n",
    "meteorites_by_location = meteorites_by_location.dropna()"
   ]
  },
  {
   "cell_type": "code",
   "execution_count": 13,
   "metadata": {
    "id": "gBCkHckM-4nx"
   },
   "outputs": [],
   "source": [
    "# Drop duplicate entries\n",
    "ufos_by_location = ufos_by_location.drop_duplicates()"
   ]
  },
  {
   "cell_type": "code",
   "execution_count": 14,
   "metadata": {
    "id": "TxS_X7kpny6b"
   },
   "outputs": [],
   "source": [
    "# Categorize each entry as either meteorite or ufo to make calculations easier\n",
    "meteorites_by_location['type'] = 1\n",
    "ufos_by_location['type'] = 0"
   ]
  },
  {
   "cell_type": "code",
   "execution_count": 15,
   "metadata": {
    "colab": {
     "base_uri": "https://localhost:8080/",
     "height": 206
    },
    "id": "ZlitT45OlArQ",
    "outputId": "d8c9aea6-d4b6-432b-8c1d-4e6362de6799"
   },
   "outputs": [
    {
     "data": {
      "text/html": [
       "<div>\n",
       "<style scoped>\n",
       "    .dataframe tbody tr th:only-of-type {\n",
       "        vertical-align: middle;\n",
       "    }\n",
       "\n",
       "    .dataframe tbody tr th {\n",
       "        vertical-align: top;\n",
       "    }\n",
       "\n",
       "    .dataframe thead th {\n",
       "        text-align: right;\n",
       "    }\n",
       "</style>\n",
       "<table border=\"1\" class=\"dataframe\">\n",
       "  <thead>\n",
       "    <tr style=\"text-align: right;\">\n",
       "      <th></th>\n",
       "      <th>meteorite_id</th>\n",
       "      <th>latitude</th>\n",
       "      <th>longitude</th>\n",
       "      <th>type</th>\n",
       "      <th>ufo_id</th>\n",
       "    </tr>\n",
       "  </thead>\n",
       "  <tbody>\n",
       "    <tr>\n",
       "      <th>0</th>\n",
       "      <td>1.0</td>\n",
       "      <td>50.77500</td>\n",
       "      <td>6.08333</td>\n",
       "      <td>1</td>\n",
       "      <td>NaN</td>\n",
       "    </tr>\n",
       "    <tr>\n",
       "      <th>1</th>\n",
       "      <td>2.0</td>\n",
       "      <td>56.18333</td>\n",
       "      <td>10.23333</td>\n",
       "      <td>1</td>\n",
       "      <td>NaN</td>\n",
       "    </tr>\n",
       "    <tr>\n",
       "      <th>2</th>\n",
       "      <td>6.0</td>\n",
       "      <td>54.21667</td>\n",
       "      <td>-113.00000</td>\n",
       "      <td>1</td>\n",
       "      <td>NaN</td>\n",
       "    </tr>\n",
       "    <tr>\n",
       "      <th>3</th>\n",
       "      <td>10.0</td>\n",
       "      <td>16.88333</td>\n",
       "      <td>-99.90000</td>\n",
       "      <td>1</td>\n",
       "      <td>NaN</td>\n",
       "    </tr>\n",
       "    <tr>\n",
       "      <th>4</th>\n",
       "      <td>370.0</td>\n",
       "      <td>-33.16667</td>\n",
       "      <td>-64.95000</td>\n",
       "      <td>1</td>\n",
       "      <td>NaN</td>\n",
       "    </tr>\n",
       "  </tbody>\n",
       "</table>\n",
       "</div>"
      ],
      "text/plain": [
       "   meteorite_id  latitude  longitude  type  ufo_id\n",
       "0           1.0  50.77500    6.08333     1     NaN\n",
       "1           2.0  56.18333   10.23333     1     NaN\n",
       "2           6.0  54.21667 -113.00000     1     NaN\n",
       "3          10.0  16.88333  -99.90000     1     NaN\n",
       "4         370.0 -33.16667  -64.95000     1     NaN"
      ]
     },
     "execution_count": 15,
     "metadata": {},
     "output_type": "execute_result"
    }
   ],
   "source": [
    "# Combine the meteorite landings locations and ufo sightings locations into one table\n",
    "meteorites_by_location.columns = ['meteorite_id', 'latitude', 'longitude', 'type']\n",
    "ufos_by_location.columns = ['ufo_id', 'latitude', 'longitude', 'type']\n",
    "meteorites_and_ufos_by_location = pd.concat([meteorites_by_location, ufos_by_location], axis=0)\n",
    "meteorites_and_ufos_by_location.head()"
   ]
  },
  {
   "cell_type": "markdown",
   "metadata": {
    "id": "f308Tk_bNGtJ"
   },
   "source": [
    "## Aggregate"
   ]
  },
  {
   "cell_type": "code",
   "execution_count": 16,
   "metadata": {
    "colab": {
     "base_uri": "https://localhost:8080/"
    },
    "id": "mKZuc_V6iV2e",
    "outputId": "437a8946-ac41-42b9-aa35-23d651bacb3c"
   },
   "outputs": [],
   "source": [
    "# Employ k-means clustering to group meteorite landings and ufo sightings into regions \n",
    "# 50 was chosen as the number of clusters, so that theoretically each region was small enough for most individuals within a given region to witness the meteorite impact or ufo\n",
    "kmeans = KMeans(n_clusters = 50, init ='k-means++')\n",
    "kmeans.fit(meteorites_and_ufos_by_location[meteorites_and_ufos_by_location.columns[1:3]])\n",
    "meteorites_and_ufos_by_location['region'] = kmeans.fit_predict(meteorites_and_ufos_by_location[meteorites_and_ufos_by_location.columns[1:3]])\n",
    "centers = kmeans.cluster_centers_ \n",
    "labels = kmeans.predict(meteorites_and_ufos_by_location[meteorites_and_ufos_by_location.columns[1:3]])"
   ]
  },
  {
   "cell_type": "code",
   "execution_count": 17,
   "metadata": {
    "colab": {
     "base_uri": "https://localhost:8080/",
     "height": 467
    },
    "id": "BjT13DuYivCi",
    "outputId": "cac195e1-aa46-43f8-cd89-a3fb93170c69"
   },
   "outputs": [
    {
     "data": {
      "text/plain": [
       "<matplotlib.collections.PathCollection at 0x7f539153a7c0>"
      ]
     },
     "execution_count": 17,
     "metadata": {},
     "output_type": "execute_result"
    },
    {
     "data": {
      "image/png": "[encoded data removed]",
      "text/plain": [
       "<Figure size 432x288 with 2 Axes>"
      ]
     },
     "metadata": {
      "needs_background": "light"
     },
     "output_type": "display_data"
    }
   ],
   "source": [
    "# Visualization of the results of the k-means clustering\n",
    "meteorites_and_ufos_by_location.plot.scatter(x = 'latitude', y = 'longitude', c=labels, s=50, cmap='viridis')\n",
    "plt.scatter(centers[:, 0], centers[:, 1], c='black', s=200, alpha=0.5)"
   ]
  },
  {
   "cell_type": "code",
   "execution_count": 18,
   "metadata": {
    "colab": {
     "base_uri": "https://localhost:8080/",
     "height": 1000
    },
    "id": "NGEih6murKa0",
    "outputId": "d6ee7072-2f86-4c30-c118-90deec72530d"
   },
   "outputs": [
    {
     "data": {
      "image/png": "[encoded data removed]",
      "text/plain": [
       "<Figure size 1080x1080 with 2 Axes>"
      ]
     },
     "metadata": {
      "needs_background": "light"
     },
     "output_type": "display_data"
    }
   ],
   "source": [
    "from shapely.geometry import Point\n",
    "import geopandas as gpd\n",
    "from geopandas import GeoDataFrame\n",
    "import matplotlib.pyplot as plt\n",
    "\n",
    "# Convert latitude and longitude and turn pandas dataframe into geopandas dataframe\n",
    "geometry = [Point(xy) for xy in zip(meteorites_and_ufos_by_location['longitude'], meteorites_and_ufos_by_location['latitude'])]\n",
    "gdf = GeoDataFrame(meteorites_and_ufos_by_location, geometry=geometry)\n",
    "\n",
    "# Plot ufo sightings and meteorite landings on world map and color by region\n",
    "world = gpd.read_file(gpd.datasets.get_path('naturalearth_lowres'))\n",
    "gdf.plot(ax=world.plot(figsize=(15, 15)), marker='o', column='region', cmap='viridis', markersize=15, legend=True);"
   ]
  },
  {
   "cell_type": "markdown",
   "metadata": {
    "id": "GjPmMl6VMGZL"
   },
   "source": [
    "## Normalize"
   ]
  },
  {
   "cell_type": "code",
   "execution_count": 19,
   "metadata": {
    "colab": {
     "base_uri": "https://localhost:8080/",
     "height": 206
    },
    "id": "O4TKqdybBT2s",
    "outputId": "d7eacd97-e806-4cac-dab8-e95756264e7f"
   },
   "outputs": [
    {
     "data": {
      "text/html": [
       "<div>\n",
       "<style scoped>\n",
       "    .dataframe tbody tr th:only-of-type {\n",
       "        vertical-align: middle;\n",
       "    }\n",
       "\n",
       "    .dataframe tbody tr th {\n",
       "        vertical-align: top;\n",
       "    }\n",
       "\n",
       "    .dataframe thead th {\n",
       "        text-align: right;\n",
       "    }\n",
       "</style>\n",
       "<table border=\"1\" class=\"dataframe\">\n",
       "  <thead>\n",
       "    <tr style=\"text-align: right;\">\n",
       "      <th></th>\n",
       "      <th>ufo_id</th>\n",
       "      <th>region</th>\n",
       "      <th>latitude</th>\n",
       "      <th>longitude</th>\n",
       "    </tr>\n",
       "  </thead>\n",
       "  <tbody>\n",
       "    <tr>\n",
       "      <th>0</th>\n",
       "      <td>0</td>\n",
       "      <td>38</td>\n",
       "      <td>29.883056</td>\n",
       "      <td>-97.941111</td>\n",
       "    </tr>\n",
       "    <tr>\n",
       "      <th>1</th>\n",
       "      <td>1</td>\n",
       "      <td>38</td>\n",
       "      <td>29.384210</td>\n",
       "      <td>-98.581082</td>\n",
       "    </tr>\n",
       "    <tr>\n",
       "      <th>2</th>\n",
       "      <td>2</td>\n",
       "      <td>24</td>\n",
       "      <td>53.200000</td>\n",
       "      <td>-2.916667</td>\n",
       "    </tr>\n",
       "    <tr>\n",
       "      <th>3</th>\n",
       "      <td>3</td>\n",
       "      <td>38</td>\n",
       "      <td>28.978333</td>\n",
       "      <td>-96.645833</td>\n",
       "    </tr>\n",
       "    <tr>\n",
       "      <th>4</th>\n",
       "      <td>4</td>\n",
       "      <td>17</td>\n",
       "      <td>21.418056</td>\n",
       "      <td>-157.803611</td>\n",
       "    </tr>\n",
       "  </tbody>\n",
       "</table>\n",
       "</div>"
      ],
      "text/plain": [
       "   ufo_id  region   latitude   longitude\n",
       "0       0      38  29.883056  -97.941111\n",
       "1       1      38  29.384210  -98.581082\n",
       "2       2      24  53.200000   -2.916667\n",
       "3       3      38  28.978333  -96.645833\n",
       "4       4      17  21.418056 -157.803611"
      ]
     },
     "execution_count": 19,
     "metadata": {},
     "output_type": "execute_result"
    }
   ],
   "source": [
    "# Create a table that contains each ufo sighting along with their latitude, longitude, and region present in the database\n",
    "ufos_by_location = ufos_by_location.merge(meteorites_and_ufos_by_location[['ufo_id', 'region']], on='ufo_id', how=\"left\")\n",
    "ufos_by_location = ufos_by_location.drop('type', axis=1)\n",
    "ufos_by_location = ufos_by_location[['ufo_id', 'region', 'latitude', 'longitude']]\n",
    "ufos_by_location.head()"
   ]
  },
  {
   "cell_type": "code",
   "execution_count": 20,
   "metadata": {
    "colab": {
     "base_uri": "https://localhost:8080/",
     "height": 206
    },
    "id": "lVMu0dy4FPzp",
    "outputId": "3d3d4a67-c3d4-423a-c5f5-56cb00aaeb1a"
   },
   "outputs": [
    {
     "data": {
      "text/html": [
       "<div>\n",
       "<style scoped>\n",
       "    .dataframe tbody tr th:only-of-type {\n",
       "        vertical-align: middle;\n",
       "    }\n",
       "\n",
       "    .dataframe tbody tr th {\n",
       "        vertical-align: top;\n",
       "    }\n",
       "\n",
       "    .dataframe thead th {\n",
       "        text-align: right;\n",
       "    }\n",
       "</style>\n",
       "<table border=\"1\" class=\"dataframe\">\n",
       "  <thead>\n",
       "    <tr style=\"text-align: right;\">\n",
       "      <th></th>\n",
       "      <th>meteorite_id</th>\n",
       "      <th>region</th>\n",
       "      <th>latitude</th>\n",
       "      <th>longitude</th>\n",
       "    </tr>\n",
       "  </thead>\n",
       "  <tbody>\n",
       "    <tr>\n",
       "      <th>0</th>\n",
       "      <td>1</td>\n",
       "      <td>7</td>\n",
       "      <td>50.77500</td>\n",
       "      <td>6.08333</td>\n",
       "    </tr>\n",
       "    <tr>\n",
       "      <th>1</th>\n",
       "      <td>2</td>\n",
       "      <td>7</td>\n",
       "      <td>56.18333</td>\n",
       "      <td>10.23333</td>\n",
       "    </tr>\n",
       "    <tr>\n",
       "      <th>2</th>\n",
       "      <td>6</td>\n",
       "      <td>47</td>\n",
       "      <td>54.21667</td>\n",
       "      <td>-113.00000</td>\n",
       "    </tr>\n",
       "    <tr>\n",
       "      <th>3</th>\n",
       "      <td>10</td>\n",
       "      <td>38</td>\n",
       "      <td>16.88333</td>\n",
       "      <td>-99.90000</td>\n",
       "    </tr>\n",
       "    <tr>\n",
       "      <th>4</th>\n",
       "      <td>370</td>\n",
       "      <td>11</td>\n",
       "      <td>-33.16667</td>\n",
       "      <td>-64.95000</td>\n",
       "    </tr>\n",
       "  </tbody>\n",
       "</table>\n",
       "</div>"
      ],
      "text/plain": [
       "   meteorite_id  region  latitude  longitude\n",
       "0             1       7  50.77500    6.08333\n",
       "1             2       7  56.18333   10.23333\n",
       "2             6      47  54.21667 -113.00000\n",
       "3            10      38  16.88333  -99.90000\n",
       "4           370      11 -33.16667  -64.95000"
      ]
     },
     "execution_count": 20,
     "metadata": {},
     "output_type": "execute_result"
    }
   ],
   "source": [
    "# Create a table that contains each meteorite landing along with their latitude, longitude, and region present in the database\n",
    "meteorites_by_location = meteorites_by_location.merge(meteorites_and_ufos_by_location[['meteorite_id', 'region']], on='meteorite_id', how=\"left\")\n",
    "meteorites_by_location = meteorites_by_location.drop('type', axis=1)\n",
    "meteorites_by_location = meteorites_by_location[['meteorite_id', 'region', 'latitude', 'longitude']]\n",
    "meteorites_by_location.head()"
   ]
  },
  {
   "cell_type": "code",
   "execution_count": 21,
   "metadata": {
    "colab": {
     "base_uri": "https://localhost:8080/",
     "height": 206
    },
    "id": "18P43fmwDv4Y",
    "outputId": "ade61782-6555-4346-93fd-a11c9f30cff7"
   },
   "outputs": [
    {
     "data": {
      "text/html": [
       "<div>\n",
       "<style scoped>\n",
       "    .dataframe tbody tr th:only-of-type {\n",
       "        vertical-align: middle;\n",
       "    }\n",
       "\n",
       "    .dataframe tbody tr th {\n",
       "        vertical-align: top;\n",
       "    }\n",
       "\n",
       "    .dataframe thead th {\n",
       "        text-align: right;\n",
       "    }\n",
       "</style>\n",
       "<table border=\"1\" class=\"dataframe\">\n",
       "  <thead>\n",
       "    <tr style=\"text-align: right;\">\n",
       "      <th></th>\n",
       "      <th>ufo_id</th>\n",
       "      <th>region</th>\n",
       "      <th>Date_time</th>\n",
       "      <th>UFO_shape</th>\n",
       "      <th>description</th>\n",
       "    </tr>\n",
       "  </thead>\n",
       "  <tbody>\n",
       "    <tr>\n",
       "      <th>0</th>\n",
       "      <td>0</td>\n",
       "      <td>38</td>\n",
       "      <td>10/10/1949 20:30</td>\n",
       "      <td>cylinder</td>\n",
       "      <td>This event took place in early fall around 194...</td>\n",
       "    </tr>\n",
       "    <tr>\n",
       "      <th>1</th>\n",
       "      <td>1</td>\n",
       "      <td>38</td>\n",
       "      <td>10/10/1949 21:00</td>\n",
       "      <td>light</td>\n",
       "      <td>1949 Lackland AFB&amp;#44 TX.  Lights racing acros...</td>\n",
       "    </tr>\n",
       "    <tr>\n",
       "      <th>2</th>\n",
       "      <td>2</td>\n",
       "      <td>24</td>\n",
       "      <td>10/10/1955 17:00</td>\n",
       "      <td>circle</td>\n",
       "      <td>Green/Orange circular disc over Chester&amp;#44 En...</td>\n",
       "    </tr>\n",
       "    <tr>\n",
       "      <th>3</th>\n",
       "      <td>3</td>\n",
       "      <td>38</td>\n",
       "      <td>10/10/1956 21:00</td>\n",
       "      <td>circle</td>\n",
       "      <td>My older brother and twin sister were leaving ...</td>\n",
       "    </tr>\n",
       "    <tr>\n",
       "      <th>4</th>\n",
       "      <td>4</td>\n",
       "      <td>17</td>\n",
       "      <td>10/10/1960 20:00</td>\n",
       "      <td>light</td>\n",
       "      <td>AS a Marine 1st Lt. flying an FJ4B fighter/att...</td>\n",
       "    </tr>\n",
       "  </tbody>\n",
       "</table>\n",
       "</div>"
      ],
      "text/plain": [
       "   ufo_id  region         Date_time UFO_shape  \\\n",
       "0       0      38  10/10/1949 20:30  cylinder   \n",
       "1       1      38  10/10/1949 21:00     light   \n",
       "2       2      24  10/10/1955 17:00    circle   \n",
       "3       3      38  10/10/1956 21:00    circle   \n",
       "4       4      17  10/10/1960 20:00     light   \n",
       "\n",
       "                                         description  \n",
       "0  This event took place in early fall around 194...  \n",
       "1  1949 Lackland AFB&#44 TX.  Lights racing acros...  \n",
       "2  Green/Orange circular disc over Chester&#44 En...  \n",
       "3  My older brother and twin sister were leaving ...  \n",
       "4  AS a Marine 1st Lt. flying an FJ4B fighter/att...  "
      ]
     },
     "execution_count": 21,
     "metadata": {},
     "output_type": "execute_result"
    }
   ],
   "source": [
    "# Create a table that contains other non-location based potentially relevant information about each ufo sighting present in the database\n",
    "ufo_sightings = ufos_by_location.merge(ufos[['id', 'Date_time', 'UFO_shape', 'description']], left_on='ufo_id', right_on='id', how=\"left\")\n",
    "ufo_sightings = ufo_sightings[['ufo_id', 'region', 'Date_time', 'UFO_shape', 'description']]\n",
    "ufo_sightings.head()"
   ]
  },
  {
   "cell_type": "code",
   "execution_count": 22,
   "metadata": {
    "colab": {
     "base_uri": "https://localhost:8080/"
    },
    "id": "1SqtnTPKEYfC",
    "outputId": "7abf3366-3009-460e-8350-0b512be81eb1"
   },
   "outputs": [
    {
     "name": "stdout",
     "output_type": "stream",
     "text": [
      "ufo_id            0\n",
      "region            0\n",
      "Date_time         0\n",
      "UFO_shape      1932\n",
      "description      15\n",
      "dtype: int64\n"
     ]
    }
   ],
   "source": [
    "# Check to ensure dataframes were joined correctly\n",
    "# Chose not to drop NaN values due to the fact that relevant information such as Date_time is present for each entry\n",
    "print(ufo_sightings.isna().sum())"
   ]
  },
  {
   "cell_type": "code",
   "execution_count": 23,
   "metadata": {
    "colab": {
     "base_uri": "https://localhost:8080/",
     "height": 206
    },
    "id": "jxyKEn8jGII0",
    "outputId": "770467ab-f156-420d-dc0f-e6c11333fb03"
   },
   "outputs": [
    {
     "data": {
      "text/html": [
       "<div>\n",
       "<style scoped>\n",
       "    .dataframe tbody tr th:only-of-type {\n",
       "        vertical-align: middle;\n",
       "    }\n",
       "\n",
       "    .dataframe tbody tr th {\n",
       "        vertical-align: top;\n",
       "    }\n",
       "\n",
       "    .dataframe thead th {\n",
       "        text-align: right;\n",
       "    }\n",
       "</style>\n",
       "<table border=\"1\" class=\"dataframe\">\n",
       "  <thead>\n",
       "    <tr style=\"text-align: right;\">\n",
       "      <th></th>\n",
       "      <th>meteorite_id</th>\n",
       "      <th>region</th>\n",
       "      <th>name</th>\n",
       "      <th>year</th>\n",
       "      <th>mass (g)</th>\n",
       "    </tr>\n",
       "  </thead>\n",
       "  <tbody>\n",
       "    <tr>\n",
       "      <th>0</th>\n",
       "      <td>1</td>\n",
       "      <td>7</td>\n",
       "      <td>Aachen</td>\n",
       "      <td>1880.0</td>\n",
       "      <td>21.0</td>\n",
       "    </tr>\n",
       "    <tr>\n",
       "      <th>1</th>\n",
       "      <td>2</td>\n",
       "      <td>7</td>\n",
       "      <td>Aarhus</td>\n",
       "      <td>1951.0</td>\n",
       "      <td>720.0</td>\n",
       "    </tr>\n",
       "    <tr>\n",
       "      <th>2</th>\n",
       "      <td>6</td>\n",
       "      <td>47</td>\n",
       "      <td>Abee</td>\n",
       "      <td>1952.0</td>\n",
       "      <td>107000.0</td>\n",
       "    </tr>\n",
       "    <tr>\n",
       "      <th>3</th>\n",
       "      <td>10</td>\n",
       "      <td>38</td>\n",
       "      <td>Acapulco</td>\n",
       "      <td>1976.0</td>\n",
       "      <td>1914.0</td>\n",
       "    </tr>\n",
       "    <tr>\n",
       "      <th>4</th>\n",
       "      <td>370</td>\n",
       "      <td>11</td>\n",
       "      <td>Achiras</td>\n",
       "      <td>1902.0</td>\n",
       "      <td>780.0</td>\n",
       "    </tr>\n",
       "  </tbody>\n",
       "</table>\n",
       "</div>"
      ],
      "text/plain": [
       "   meteorite_id  region      name    year  mass (g)\n",
       "0             1       7    Aachen  1880.0      21.0\n",
       "1             2       7    Aarhus  1951.0     720.0\n",
       "2             6      47      Abee  1952.0  107000.0\n",
       "3            10      38  Acapulco  1976.0    1914.0\n",
       "4           370      11   Achiras  1902.0     780.0"
      ]
     },
     "execution_count": 23,
     "metadata": {},
     "output_type": "execute_result"
    }
   ],
   "source": [
    "# Create a table that contains other non-location based potentially relevant information about each meteorite landing present in the database\n",
    "meteorite_landings = meteorites_by_location.merge(meteorites[['id', 'name', 'mass (g)', 'year']], left_on='meteorite_id', right_on='id', how=\"left\")\n",
    "meteorite_landings = meteorite_landings[['meteorite_id', 'region', 'name', 'year', 'mass (g)']]\n",
    "meteorite_landings.head()"
   ]
  },
  {
   "cell_type": "code",
   "execution_count": 24,
   "metadata": {
    "colab": {
     "base_uri": "https://localhost:8080/"
    },
    "id": "woY4bUezGzcP",
    "outputId": "2df77b74-95a9-4dbd-a98b-0b9dee487d65"
   },
   "outputs": [
    {
     "name": "stdout",
     "output_type": "stream",
     "text": [
      "meteorite_id      0\n",
      "region            0\n",
      "name              0\n",
      "year            178\n",
      "mass (g)        119\n",
      "dtype: int64\n"
     ]
    }
   ],
   "source": [
    "# Check to ensure dataframes were joined correctly\n",
    "print(meteorite_landings.isna().sum())"
   ]
  },
  {
   "cell_type": "code",
   "execution_count": 25,
   "metadata": {
    "id": "jPnEbVPPoJzJ"
   },
   "outputs": [],
   "source": [
    "# Create a table that contains both the number of meteorite landings and ufo sightings by region by grouping by region and aggregating the count and sum of type\n",
    "meteorites_and_ufos_by_location = meteorites_and_ufos_by_location.groupby(['region']).agg({'type': ['count', 'sum']})"
   ]
  },
  {
   "cell_type": "code",
   "execution_count": 26,
   "metadata": {
    "colab": {
     "base_uri": "https://localhost:8080/",
     "height": 206
    },
    "id": "Q1G4Iyc32iRz",
    "outputId": "ea8585ef-7036-4dcd-f492-9a3865e979f0"
   },
   "outputs": [
    {
     "data": {
      "text/html": [
       "<div>\n",
       "<style scoped>\n",
       "    .dataframe tbody tr th:only-of-type {\n",
       "        vertical-align: middle;\n",
       "    }\n",
       "\n",
       "    .dataframe tbody tr th {\n",
       "        vertical-align: top;\n",
       "    }\n",
       "\n",
       "    .dataframe thead th {\n",
       "        text-align: right;\n",
       "    }\n",
       "</style>\n",
       "<table border=\"1\" class=\"dataframe\">\n",
       "  <thead>\n",
       "    <tr style=\"text-align: right;\">\n",
       "      <th></th>\n",
       "      <th>region</th>\n",
       "      <th>meteorite_landings</th>\n",
       "      <th>ufo_sightings</th>\n",
       "    </tr>\n",
       "  </thead>\n",
       "  <tbody>\n",
       "    <tr>\n",
       "      <th>0</th>\n",
       "      <td>0</td>\n",
       "      <td>154</td>\n",
       "      <td>3259</td>\n",
       "    </tr>\n",
       "    <tr>\n",
       "      <th>1</th>\n",
       "      <td>1</td>\n",
       "      <td>2494</td>\n",
       "      <td>5</td>\n",
       "    </tr>\n",
       "    <tr>\n",
       "      <th>2</th>\n",
       "      <td>2</td>\n",
       "      <td>6251</td>\n",
       "      <td>10</td>\n",
       "    </tr>\n",
       "    <tr>\n",
       "      <th>3</th>\n",
       "      <td>3</td>\n",
       "      <td>6078</td>\n",
       "      <td>0</td>\n",
       "    </tr>\n",
       "    <tr>\n",
       "      <th>4</th>\n",
       "      <td>4</td>\n",
       "      <td>3157</td>\n",
       "      <td>42</td>\n",
       "    </tr>\n",
       "  </tbody>\n",
       "</table>\n",
       "</div>"
      ],
      "text/plain": [
       "   region  meteorite_landings  ufo_sightings\n",
       "0       0                 154           3259\n",
       "1       1                2494              5\n",
       "2       2                6251             10\n",
       "3       3                6078              0\n",
       "4       4                3157             42"
      ]
     },
     "execution_count": 26,
     "metadata": {},
     "output_type": "execute_result"
    }
   ],
   "source": [
    "# Calculate number of ufo sightings, appropriately rename columns, and drop unnecessary count column\n",
    "meteorites_and_ufos_by_location['ufo_sightings'] = meteorites_and_ufos_by_location[('type', 'count')] - meteorites_and_ufos_by_location[('type', 'sum')]\n",
    "meteorites_and_ufos_by_location.columns = ['count', 'meteorite_landings', 'ufo_sightings']\n",
    "meteorites_and_ufos_by_location = meteorites_and_ufos_by_location.drop('count', axis=1)\n",
    "meteorites_and_ufos_by_location = meteorites_and_ufos_by_location.reset_index()\n",
    "meteorites_and_ufos_by_location.head()"
   ]
  },
  {
   "cell_type": "markdown",
   "metadata": {
    "id": "-PR5Zgq-BB1W"
   },
   "source": [
    "# Load"
   ]
  },
  {
   "cell_type": "code",
   "execution_count": 27,
   "metadata": {
    "id": "qDDQiHKEQqzH"
   },
   "outputs": [],
   "source": [
    "# Connect to AWS RDS host\n",
    "import psycopg2\n",
    "def get_conn_cur():\n",
    " \n",
    " conn = psycopg2.connect(\n",
    "    host=\"hw-db.csjfcyw23nqt.us-west-2.rds.amazonaws.com\",\n",
    "    database=\"hw3_db\",\n",
    "    user=\"postgres\",\n",
    "    password=\"password\",\n",
    "    port='5432'\n",
    "    )\n",
    " \n",
    " cur = conn.cursor()\n",
    " return(conn, cur)"
   ]
  },
  {
   "cell_type": "code",
   "execution_count": 28,
   "metadata": {
    "id": "9-WIyro0Qrj_"
   },
   "outputs": [],
   "source": [
    "# run_query function\n",
    "def run_query(query_string):\n",
    "\n",
    " conn, cur = get_conn_cur() # get connection and cursor\n",
    "\n",
    " cur.execute(query_string) # executing string as before\n",
    "\n",
    " my_data = cur.fetchall() # fetch query data as before\n",
    "\n",
    " # here we're extracting the 0th element for each item in cur.description\n",
    " colnames = [desc[0] for desc in cur.description]\n",
    "\n",
    " cur.close() # close\n",
    " conn.close() # close\n",
    "\n",
    " return(colnames, my_data) # return column names AND data\n",
    "\n",
    "# Column name function for checking out what's in a table\n",
    "def get_column_names(table_name): # arguement of table_name\n",
    " conn, cur = get_conn_cur() # get connection and cursor\n",
    "\n",
    " # Now select column names while inserting the table name into the WERE\n",
    " column_name_query = \"\"\"SELECT column_name FROM information_schema.columns\n",
    "    WHERE table_name = '%s' \"\"\" %table_name\n",
    "\n",
    " cur.execute(column_name_query) # exectue\n",
    " my_data = cur.fetchall() # store\n",
    "\n",
    " cur.close() # close\n",
    " conn.close() # close\n",
    "\n",
    " return(my_data) # return\n",
    "\n",
    "# Check table_names\n",
    "def get_table_names():\n",
    " conn, cur = get_conn_cur() # get connection and cursor\n",
    "\n",
    " # query to get table names\n",
    " table_name_query = \"\"\"SELECT table_name FROM information_schema.tables \"\"\"\n",
    "\n",
    " cur.execute(table_name_query) # execute\n",
    " my_data = cur.fetchall() # fetch results\n",
    "\n",
    " cur.close() #close cursor\n",
    " conn.close() # close connection\n",
    "\n",
    " return(my_data) # return your fetched results\n",
    " \n",
    "# make sql_head function\n",
    "def sql_head(table_name):\n",
    " conn, cur = get_conn_cur() # get connection and cursor\n",
    "\n",
    " # Now select column names while inserting the table name into the WERE\n",
    " head_query = \"\"\"SELECT * FROM %s LIMIT 5; \"\"\" %table_name\n",
    "\n",
    " cur.execute(head_query) # exectue\n",
    " colnames = [desc[0] for desc in cur.description] # get column names\n",
    " my_data = cur.fetchall() # store first five rows\n",
    "\n",
    " cur.close() # close\n",
    " conn.close() # close\n",
    "\n",
    " df = pd.DataFrame(data = my_data, columns = colnames) # make into df\n",
    "\n",
    " return(df) # return"
   ]
  },
  {
   "cell_type": "markdown",
   "metadata": {
    "id": "SXnESkTNbrcF"
   },
   "source": [
    "## meteorites_and_ufos_by_location table"
   ]
  },
  {
   "cell_type": "code",
   "execution_count": 29,
   "metadata": {
    "id": "62zdFjV7Q2-m"
   },
   "outputs": [],
   "source": [
    "conn, cur = get_conn_cur()\n",
    "cur = conn.cursor()\n",
    "tq = \"\"\"CREATE TABLE meteorites_and_ufos_by_location (\n",
    "     region_id BIGINT PRIMARY KEY,\n",
    "     meteorite_landings BIGINT NOT NULL, \n",
    "     ufo_sightings BIGINT NOT NULL\n",
    "     );\"\"\"\n",
    "tq2 = \"\"\"DROP TABLE meteorites_and_ufos_by_location;\"\"\"\n",
    "cur.execute(tq)\n",
    "conn.commit()\n",
    "cur.close()\n",
    "conn.close()"
   ]
  },
  {
   "cell_type": "code",
   "execution_count": 30,
   "metadata": {
    "colab": {
     "base_uri": "https://localhost:8080/"
    },
    "id": "9zai6C34RkvP",
    "outputId": "2f465bae-1456-45dc-d8ee-491ee1c452e5"
   },
   "outputs": [
    {
     "data": {
      "text/plain": [
       "[('region_id',), ('meteorite_landings',), ('ufo_sightings',)]"
      ]
     },
     "execution_count": 30,
     "metadata": {},
     "output_type": "execute_result"
    }
   ],
   "source": [
    "# Check table was created correctly\n",
    "get_column_names(table_name='meteorites_and_ufos_by_location')"
   ]
  },
  {
   "cell_type": "code",
   "execution_count": 31,
   "metadata": {
    "id": "gJHIJ3HyaEio"
   },
   "outputs": [],
   "source": [
    "# Convert types for numpy array vectorization\n",
    "meteorites_and_ufos_by_location['region'] = meteorites_and_ufos_by_location['region'].values.astype(float)\n",
    "meteorites_and_ufos_by_location['meteorite_landings'] = meteorites_and_ufos_by_location['meteorite_landings'].values.astype(float)\n",
    "meteorites_and_ufos_by_location['ufo_sightings'] = meteorites_and_ufos_by_location['ufo_sightings'].values.astype(float)\n"
   ]
  },
  {
   "cell_type": "code",
   "execution_count": 32,
   "metadata": {
    "id": "kIiN_kBsT-KF"
   },
   "outputs": [],
   "source": [
    "# Convert pandas dataframe to numpy array and vectorize\n",
    "import numpy as np\n",
    "\n",
    "meteorites_and_ufos_by_location_np = meteorites_and_ufos_by_location.to_numpy();\n",
    "meteorites_and_ufos_by_location_np[:,1] = np.vectorize(lambda x: str(x))(meteorites_and_ufos_by_location_np[:,1]) \n",
    "data_tups = [tuple(x) for x in meteorites_and_ufos_by_location_np]"
   ]
  },
  {
   "cell_type": "code",
   "execution_count": 33,
   "metadata": {
    "id": "pghvW5wHUGNx"
   },
   "outputs": [],
   "source": [
    "# Upload data into table staged in AWS RDS database\n",
    "iq = \"\"\"INSERT INTO meteorites_and_ufos_by_location(region_id,meteorite_landings,ufo_sightings) VALUES(%s, %s, %s);\"\"\"\n",
    "conn, cur = get_conn_cur()\n",
    "cur.executemany(iq, data_tups)\n",
    "conn.commit()\n",
    "cur.close()\n",
    "conn.close()"
   ]
  },
  {
   "cell_type": "code",
   "execution_count": 34,
   "metadata": {
    "colab": {
     "base_uri": "https://localhost:8080/",
     "height": 206
    },
    "id": "kpITQg26bRSs",
    "outputId": "4651827f-a005-4741-ad6c-6b77926d2146"
   },
   "outputs": [
    {
     "data": {
      "text/html": [
       "<div>\n",
       "<style scoped>\n",
       "    .dataframe tbody tr th:only-of-type {\n",
       "        vertical-align: middle;\n",
       "    }\n",
       "\n",
       "    .dataframe tbody tr th {\n",
       "        vertical-align: top;\n",
       "    }\n",
       "\n",
       "    .dataframe thead th {\n",
       "        text-align: right;\n",
       "    }\n",
       "</style>\n",
       "<table border=\"1\" class=\"dataframe\">\n",
       "  <thead>\n",
       "    <tr style=\"text-align: right;\">\n",
       "      <th></th>\n",
       "      <th>region_id</th>\n",
       "      <th>meteorite_landings</th>\n",
       "      <th>ufo_sightings</th>\n",
       "    </tr>\n",
       "  </thead>\n",
       "  <tbody>\n",
       "    <tr>\n",
       "      <th>0</th>\n",
       "      <td>0</td>\n",
       "      <td>154</td>\n",
       "      <td>3259</td>\n",
       "    </tr>\n",
       "    <tr>\n",
       "      <th>1</th>\n",
       "      <td>1</td>\n",
       "      <td>2494</td>\n",
       "      <td>5</td>\n",
       "    </tr>\n",
       "    <tr>\n",
       "      <th>2</th>\n",
       "      <td>2</td>\n",
       "      <td>6251</td>\n",
       "      <td>10</td>\n",
       "    </tr>\n",
       "    <tr>\n",
       "      <th>3</th>\n",
       "      <td>3</td>\n",
       "      <td>6078</td>\n",
       "      <td>0</td>\n",
       "    </tr>\n",
       "    <tr>\n",
       "      <th>4</th>\n",
       "      <td>4</td>\n",
       "      <td>3157</td>\n",
       "      <td>42</td>\n",
       "    </tr>\n",
       "  </tbody>\n",
       "</table>\n",
       "</div>"
      ],
      "text/plain": [
       "   region_id  meteorite_landings  ufo_sightings\n",
       "0          0                 154           3259\n",
       "1          1                2494              5\n",
       "2          2                6251             10\n",
       "3          3                6078              0\n",
       "4          4                3157             42"
      ]
     },
     "execution_count": 34,
     "metadata": {},
     "output_type": "execute_result"
    }
   ],
   "source": [
    "# Check data was inserted correctly\n",
    "sql_head(table_name='meteorites_and_ufos_by_location')"
   ]
  },
  {
   "cell_type": "markdown",
   "metadata": {
    "id": "x0XwjXE0b23r"
   },
   "source": [
    "## ufos_by_location table"
   ]
  },
  {
   "cell_type": "code",
   "execution_count": 35,
   "metadata": {
    "id": "PwrKoJyFuSn5"
   },
   "outputs": [],
   "source": [
    "conn, cur = get_conn_cur()\n",
    "cur = conn.cursor()\n",
    "tq = \"\"\"CREATE TABLE ufos_by_location (\n",
    "     ufo_id BIGINT PRIMARY KEY,\n",
    "     region_id BIGINT NOT NULL, \n",
    "     latitude FLOAT NOT NULL,\n",
    "     longitude FLOAT NOT NULL,\n",
    "     FOREIGN KEY (region_id) REFERENCES meteorites_and_ufos_by_location(region_id)\n",
    "     );\"\"\"\n",
    "tq2 = \"\"\"DROP TABLE ufos_by_location;\"\"\"\n",
    "cur.execute(tq)\n",
    "conn.commit()\n",
    "cur.close()\n",
    "conn.close()"
   ]
  },
  {
   "cell_type": "code",
   "execution_count": 36,
   "metadata": {
    "colab": {
     "base_uri": "https://localhost:8080/"
    },
    "id": "CRCyKkVrvSDi",
    "outputId": "ecbb4bba-11a2-44d0-8560-480688d7ce29"
   },
   "outputs": [
    {
     "data": {
      "text/plain": [
       "[('ufo_id',), ('region_id',), ('latitude',), ('longitude',)]"
      ]
     },
     "execution_count": 36,
     "metadata": {},
     "output_type": "execute_result"
    }
   ],
   "source": [
    "# Check table was created correctly\n",
    "get_column_names(table_name='ufos_by_location')"
   ]
  },
  {
   "cell_type": "code",
   "execution_count": 38,
   "metadata": {
    "id": "qKYa0FaMvZfd"
   },
   "outputs": [],
   "source": [
    "# Convert types for numpy array vectorization\n",
    "ufos_by_location['ufo_id'] = ufos_by_location['ufo_id'].values.astype(float)\n",
    "ufos_by_location['region'] = ufos_by_location['region'].values.astype(float)"
   ]
  },
  {
   "cell_type": "code",
   "execution_count": 39,
   "metadata": {
    "id": "s8GJcpKjv_uo"
   },
   "outputs": [],
   "source": [
    "# Convert pandas dataframe to numpy array and vectorize\n",
    "import numpy as np\n",
    "\n",
    "ufos_by_location_np = ufos_by_location.to_numpy();\n",
    "ufos_by_location_np[:,1] = np.vectorize(lambda x: str(x))(ufos_by_location_np[:,1]) \n",
    "data_tups = [tuple(x) for x in ufos_by_location_np]"
   ]
  },
  {
   "cell_type": "code",
   "execution_count": 40,
   "metadata": {
    "colab": {
     "base_uri": "https://localhost:8080/",
     "height": 365
    },
    "id": "KA-uoI5SwARX",
    "outputId": "64fe8a76-4d0b-4e06-ded3-0e9f21a0e37e"
   },
   "outputs": [],
   "source": [
    "# Upload data into table staged in AWS RDS database\n",
    "iq = \"\"\"INSERT INTO ufos_by_location(ufo_id,region_id,latitude,longitude) VALUES(%s, %s, %s, %s);\"\"\"\n",
    "conn, cur = get_conn_cur()\n",
    "cur.executemany(iq, data_tups)\n",
    "conn.commit()\n",
    "cur.close()\n",
    "conn.close()"
   ]
  },
  {
   "cell_type": "code",
   "execution_count": 41,
   "metadata": {
    "id": "6BPif96DwP4T"
   },
   "outputs": [
    {
     "data": {
      "text/html": [
       "<div>\n",
       "<style scoped>\n",
       "    .dataframe tbody tr th:only-of-type {\n",
       "        vertical-align: middle;\n",
       "    }\n",
       "\n",
       "    .dataframe tbody tr th {\n",
       "        vertical-align: top;\n",
       "    }\n",
       "\n",
       "    .dataframe thead th {\n",
       "        text-align: right;\n",
       "    }\n",
       "</style>\n",
       "<table border=\"1\" class=\"dataframe\">\n",
       "  <thead>\n",
       "    <tr style=\"text-align: right;\">\n",
       "      <th></th>\n",
       "      <th>ufo_id</th>\n",
       "      <th>region_id</th>\n",
       "      <th>latitude</th>\n",
       "      <th>longitude</th>\n",
       "    </tr>\n",
       "  </thead>\n",
       "  <tbody>\n",
       "    <tr>\n",
       "      <th>0</th>\n",
       "      <td>0</td>\n",
       "      <td>38</td>\n",
       "      <td>29.883056</td>\n",
       "      <td>-97.941111</td>\n",
       "    </tr>\n",
       "    <tr>\n",
       "      <th>1</th>\n",
       "      <td>1</td>\n",
       "      <td>38</td>\n",
       "      <td>29.384210</td>\n",
       "      <td>-98.581082</td>\n",
       "    </tr>\n",
       "    <tr>\n",
       "      <th>2</th>\n",
       "      <td>2</td>\n",
       "      <td>24</td>\n",
       "      <td>53.200000</td>\n",
       "      <td>-2.916667</td>\n",
       "    </tr>\n",
       "    <tr>\n",
       "      <th>3</th>\n",
       "      <td>3</td>\n",
       "      <td>38</td>\n",
       "      <td>28.978333</td>\n",
       "      <td>-96.645833</td>\n",
       "    </tr>\n",
       "    <tr>\n",
       "      <th>4</th>\n",
       "      <td>4</td>\n",
       "      <td>17</td>\n",
       "      <td>21.418056</td>\n",
       "      <td>-157.803611</td>\n",
       "    </tr>\n",
       "  </tbody>\n",
       "</table>\n",
       "</div>"
      ],
      "text/plain": [
       "   ufo_id  region_id   latitude   longitude\n",
       "0       0         38  29.883056  -97.941111\n",
       "1       1         38  29.384210  -98.581082\n",
       "2       2         24  53.200000   -2.916667\n",
       "3       3         38  28.978333  -96.645833\n",
       "4       4         17  21.418056 -157.803611"
      ]
     },
     "execution_count": 41,
     "metadata": {},
     "output_type": "execute_result"
    }
   ],
   "source": [
    "# Check data was inserted correctly\n",
    "sql_head(table_name='ufos_by_location')"
   ]
  },
  {
   "cell_type": "markdown",
   "metadata": {
    "id": "fmzu_LIJb7tL"
   },
   "source": [
    "## meteorites_by_location table"
   ]
  },
  {
   "cell_type": "code",
   "execution_count": 42,
   "metadata": {
    "id": "KPygyYMNzfhK"
   },
   "outputs": [],
   "source": [
    "conn, cur = get_conn_cur()\n",
    "cur = conn.cursor()\n",
    "tq = \"\"\"CREATE TABLE meteorites_by_location (\n",
    "     meteorite_id BIGINT PRIMARY KEY,\n",
    "     region_id BIGINT NOT NULL, \n",
    "     latitude FLOAT NOT NULL,\n",
    "     longitude FLOAT NOT NULL,\n",
    "     FOREIGN KEY (region_id) REFERENCES meteorites_and_ufos_by_location(region_id)\n",
    "     );\"\"\"\n",
    "tq2 = \"\"\"DROP TABLE meteorites_by_location;\"\"\"\n",
    "cur.execute(tq)\n",
    "conn.commit()\n",
    "cur.close()\n",
    "conn.close()"
   ]
  },
  {
   "cell_type": "code",
   "execution_count": 43,
   "metadata": {
    "id": "IvDdF_OezrOw"
   },
   "outputs": [
    {
     "data": {
      "text/plain": [
       "[('meteorite_id',), ('region_id',), ('latitude',), ('longitude',)]"
      ]
     },
     "execution_count": 43,
     "metadata": {},
     "output_type": "execute_result"
    }
   ],
   "source": [
    "# Check table was created correctly\n",
    "get_column_names(table_name='meteorites_by_location')"
   ]
  },
  {
   "cell_type": "code",
   "execution_count": 45,
   "metadata": {
    "id": "15E0bCb9z3DL"
   },
   "outputs": [],
   "source": [
    "# Convert types for numpy array vectorization\n",
    "meteorites_by_location['meteorite_id'] = meteorites_by_location['meteorite_id'].values.astype(float)"
   ]
  },
  {
   "cell_type": "code",
   "execution_count": 46,
   "metadata": {
    "id": "5moCScOEz8Ba"
   },
   "outputs": [],
   "source": [
    "# Convert pandas dataframe to numpy array and vectorize\n",
    "import numpy as np\n",
    "\n",
    "meteorites_by_location_np = meteorites_by_location.to_numpy();\n",
    "meteorites_by_location_np[:,1] = np.vectorize(lambda x: str(x))(meteorites_by_location_np[:,1]) \n",
    "data_tups = [tuple(x) for x in meteorites_by_location_np]"
   ]
  },
  {
   "cell_type": "code",
   "execution_count": 47,
   "metadata": {
    "id": "proEP5St0C7K"
   },
   "outputs": [],
   "source": [
    "# Upload data into table staged in AWS RDS database\n",
    "iq = \"\"\"INSERT INTO meteorites_by_location(meteorite_id,region_id,latitude,longitude) VALUES(%s, %s, %s, %s);\"\"\"\n",
    "conn, cur = get_conn_cur()\n",
    "cur.executemany(iq, data_tups)\n",
    "conn.commit()\n",
    "cur.close()\n",
    "conn.close()"
   ]
  },
  {
   "cell_type": "code",
   "execution_count": 48,
   "metadata": {
    "id": "3z0rqgx_5oq5"
   },
   "outputs": [
    {
     "data": {
      "text/html": [
       "<div>\n",
       "<style scoped>\n",
       "    .dataframe tbody tr th:only-of-type {\n",
       "        vertical-align: middle;\n",
       "    }\n",
       "\n",
       "    .dataframe tbody tr th {\n",
       "        vertical-align: top;\n",
       "    }\n",
       "\n",
       "    .dataframe thead th {\n",
       "        text-align: right;\n",
       "    }\n",
       "</style>\n",
       "<table border=\"1\" class=\"dataframe\">\n",
       "  <thead>\n",
       "    <tr style=\"text-align: right;\">\n",
       "      <th></th>\n",
       "      <th>meteorite_id</th>\n",
       "      <th>region_id</th>\n",
       "      <th>latitude</th>\n",
       "      <th>longitude</th>\n",
       "    </tr>\n",
       "  </thead>\n",
       "  <tbody>\n",
       "    <tr>\n",
       "      <th>0</th>\n",
       "      <td>1</td>\n",
       "      <td>7</td>\n",
       "      <td>50.77500</td>\n",
       "      <td>6.08333</td>\n",
       "    </tr>\n",
       "    <tr>\n",
       "      <th>1</th>\n",
       "      <td>2</td>\n",
       "      <td>7</td>\n",
       "      <td>56.18333</td>\n",
       "      <td>10.23333</td>\n",
       "    </tr>\n",
       "    <tr>\n",
       "      <th>2</th>\n",
       "      <td>6</td>\n",
       "      <td>47</td>\n",
       "      <td>54.21667</td>\n",
       "      <td>-113.00000</td>\n",
       "    </tr>\n",
       "    <tr>\n",
       "      <th>3</th>\n",
       "      <td>10</td>\n",
       "      <td>38</td>\n",
       "      <td>16.88333</td>\n",
       "      <td>-99.90000</td>\n",
       "    </tr>\n",
       "    <tr>\n",
       "      <th>4</th>\n",
       "      <td>370</td>\n",
       "      <td>11</td>\n",
       "      <td>-33.16667</td>\n",
       "      <td>-64.95000</td>\n",
       "    </tr>\n",
       "  </tbody>\n",
       "</table>\n",
       "</div>"
      ],
      "text/plain": [
       "   meteorite_id  region_id  latitude  longitude\n",
       "0             1          7  50.77500    6.08333\n",
       "1             2          7  56.18333   10.23333\n",
       "2             6         47  54.21667 -113.00000\n",
       "3            10         38  16.88333  -99.90000\n",
       "4           370         11 -33.16667  -64.95000"
      ]
     },
     "execution_count": 48,
     "metadata": {},
     "output_type": "execute_result"
    }
   ],
   "source": [
    "# Check data was inserted correctly\n",
    "sql_head(table_name='meteorites_by_location')"
   ]
  },
  {
   "cell_type": "markdown",
   "metadata": {
    "id": "-rJy7TA6cACh"
   },
   "source": [
    "## ufo_sightings table"
   ]
  },
  {
   "cell_type": "code",
   "execution_count": 49,
   "metadata": {
    "id": "e5pnt50N0e4u"
   },
   "outputs": [],
   "source": [
    "conn, cur = get_conn_cur()\n",
    "cur = conn.cursor()\n",
    "tq = \"\"\"CREATE TABLE ufo_sightings (\n",
    "     ufo_id BIGINT PRIMARY KEY,\n",
    "     region_id BIGINT NOT NULL, \n",
    "     date DATE NOT NULL,\n",
    "     shape VARCHAR(255),\n",
    "     description VARCHAR(255),\n",
    "     FOREIGN KEY (region_id) REFERENCES meteorites_and_ufos_by_location(region_id)\n",
    "     );\"\"\"\n",
    "tq2 = \"\"\"DROP TABLE ufo_sightings;\"\"\"\n",
    "cur.execute(tq)\n",
    "conn.commit()\n",
    "cur.close()\n",
    "conn.close()"
   ]
  },
  {
   "cell_type": "code",
   "execution_count": 50,
   "metadata": {
    "id": "P2RZLlKs1WmP"
   },
   "outputs": [
    {
     "data": {
      "text/plain": [
       "[('ufo_id',), ('region_id',), ('date',), ('shape',), ('description',)]"
      ]
     },
     "execution_count": 50,
     "metadata": {},
     "output_type": "execute_result"
    }
   ],
   "source": [
    "# Check table was created correctly\n",
    "get_column_names(table_name='ufo_sightings')"
   ]
  },
  {
   "cell_type": "code",
   "execution_count": 52,
   "metadata": {
    "id": "f6NQk_nz1ccI"
   },
   "outputs": [],
   "source": [
    "# Convert types for numpy array vectorization\n",
    "ufo_sightings['ufo_id'] = ufo_sightings['ufo_id'].values.astype(float)"
   ]
  },
  {
   "cell_type": "code",
   "execution_count": 53,
   "metadata": {
    "id": "YRa1Yh0X1irg"
   },
   "outputs": [],
   "source": [
    "# Convert pandas dataframe to numpy array and vectorize\n",
    "import numpy as np\n",
    "\n",
    "ufo_sightings_np = ufo_sightings.to_numpy();\n",
    "ufo_sightings_np[:,1] = np.vectorize(lambda x: str(x))(ufo_sightings_np[:,1]) \n",
    "data_tups = [tuple(x) for x in ufo_sightings_np]"
   ]
  },
  {
   "cell_type": "code",
   "execution_count": 54,
   "metadata": {
    "id": "g_AuJMEM1qGu"
   },
   "outputs": [],
   "source": [
    "# Upload data into table staged in AWS RDS database\n",
    "iq = \"\"\"INSERT INTO ufo_sightings(ufo_id,region_id,date,shape,description) VALUES(%s, %s, %s, %s, %s);\"\"\"\n",
    "conn, cur = get_conn_cur()\n",
    "cur.executemany(iq, data_tups)\n",
    "conn.commit()\n",
    "cur.close()\n",
    "conn.close()"
   ]
  },
  {
   "cell_type": "code",
   "execution_count": 55,
   "metadata": {
    "id": "D_bwtUD_5sqH"
   },
   "outputs": [
    {
     "data": {
      "text/html": [
       "<div>\n",
       "<style scoped>\n",
       "    .dataframe tbody tr th:only-of-type {\n",
       "        vertical-align: middle;\n",
       "    }\n",
       "\n",
       "    .dataframe tbody tr th {\n",
       "        vertical-align: top;\n",
       "    }\n",
       "\n",
       "    .dataframe thead th {\n",
       "        text-align: right;\n",
       "    }\n",
       "</style>\n",
       "<table border=\"1\" class=\"dataframe\">\n",
       "  <thead>\n",
       "    <tr style=\"text-align: right;\">\n",
       "      <th></th>\n",
       "      <th>ufo_id</th>\n",
       "      <th>region_id</th>\n",
       "      <th>date</th>\n",
       "      <th>shape</th>\n",
       "      <th>description</th>\n",
       "    </tr>\n",
       "  </thead>\n",
       "  <tbody>\n",
       "    <tr>\n",
       "      <th>0</th>\n",
       "      <td>0</td>\n",
       "      <td>38</td>\n",
       "      <td>1949-10-10</td>\n",
       "      <td>cylinder</td>\n",
       "      <td>This event took place in early fall around 194...</td>\n",
       "    </tr>\n",
       "    <tr>\n",
       "      <th>1</th>\n",
       "      <td>1</td>\n",
       "      <td>38</td>\n",
       "      <td>1949-10-10</td>\n",
       "      <td>light</td>\n",
       "      <td>1949 Lackland AFB&amp;#44 TX.  Lights racing acros...</td>\n",
       "    </tr>\n",
       "    <tr>\n",
       "      <th>2</th>\n",
       "      <td>2</td>\n",
       "      <td>24</td>\n",
       "      <td>1955-10-10</td>\n",
       "      <td>circle</td>\n",
       "      <td>Green/Orange circular disc over Chester&amp;#44 En...</td>\n",
       "    </tr>\n",
       "    <tr>\n",
       "      <th>3</th>\n",
       "      <td>3</td>\n",
       "      <td>38</td>\n",
       "      <td>1956-10-10</td>\n",
       "      <td>circle</td>\n",
       "      <td>My older brother and twin sister were leaving ...</td>\n",
       "    </tr>\n",
       "    <tr>\n",
       "      <th>4</th>\n",
       "      <td>4</td>\n",
       "      <td>17</td>\n",
       "      <td>1960-10-10</td>\n",
       "      <td>light</td>\n",
       "      <td>AS a Marine 1st Lt. flying an FJ4B fighter/att...</td>\n",
       "    </tr>\n",
       "  </tbody>\n",
       "</table>\n",
       "</div>"
      ],
      "text/plain": [
       "   ufo_id  region_id        date     shape  \\\n",
       "0       0         38  1949-10-10  cylinder   \n",
       "1       1         38  1949-10-10     light   \n",
       "2       2         24  1955-10-10    circle   \n",
       "3       3         38  1956-10-10    circle   \n",
       "4       4         17  1960-10-10     light   \n",
       "\n",
       "                                         description  \n",
       "0  This event took place in early fall around 194...  \n",
       "1  1949 Lackland AFB&#44 TX.  Lights racing acros...  \n",
       "2  Green/Orange circular disc over Chester&#44 En...  \n",
       "3  My older brother and twin sister were leaving ...  \n",
       "4  AS a Marine 1st Lt. flying an FJ4B fighter/att...  "
      ]
     },
     "execution_count": 55,
     "metadata": {},
     "output_type": "execute_result"
    }
   ],
   "source": [
    "# Check data was inserted correctly\n",
    "sql_head(table_name='ufo_sightings')"
   ]
  },
  {
   "cell_type": "markdown",
   "metadata": {
    "id": "KapW3VXocEAu"
   },
   "source": [
    "## meteorite_landings table"
   ]
  },
  {
   "cell_type": "code",
   "execution_count": 56,
   "metadata": {
    "id": "cI5SI4S75wzm"
   },
   "outputs": [],
   "source": [
    "conn, cur = get_conn_cur()\n",
    "cur = conn.cursor()\n",
    "tq = \"\"\"CREATE TABLE meteorite_landings (\n",
    "     meteorite_id BIGINT PRIMARY KEY,\n",
    "     region_id BIGINT NOT NULL, \n",
    "     name VARCHAR(255) NOT NULL,\n",
    "     year BIGINT NOT NULL,\n",
    "     mass FLOAT NOT NULL,\n",
    "     FOREIGN KEY (region_id) REFERENCES meteorites_and_ufos_by_location(region_id)\n",
    "     );\"\"\"\n",
    "tq2 = \"\"\"DROP TABLE meteorite_landings;\"\"\"\n",
    "cur.execute(tq)\n",
    "conn.commit()\n",
    "cur.close()\n",
    "conn.close()"
   ]
  },
  {
   "cell_type": "code",
   "execution_count": 57,
   "metadata": {
    "id": "t8_ny2BX6MyR"
   },
   "outputs": [
    {
     "data": {
      "text/plain": [
       "[('meteorite_id',), ('region_id',), ('name',), ('year',), ('mass',)]"
      ]
     },
     "execution_count": 57,
     "metadata": {},
     "output_type": "execute_result"
    }
   ],
   "source": [
    "# Check table was created correctly\n",
    "get_column_names(table_name='meteorite_landings')"
   ]
  },
  {
   "cell_type": "code",
   "execution_count": 59,
   "metadata": {
    "id": "0rFd0MOX6TMg"
   },
   "outputs": [],
   "source": [
    "# Convert types for numpy array vectorization\n",
    "meteorite_landings['meteorite_id'] = meteorite_landings['meteorite_id'].values.astype(float)\n",
    "meteorite_landings['year'] = meteorite_landings['year'].values.astype(int)"
   ]
  },
  {
   "cell_type": "code",
   "execution_count": 60,
   "metadata": {
    "id": "ixehTNa06Y3N"
   },
   "outputs": [],
   "source": [
    "# Convert pandas dataframe to numpy array and vectorize\n",
    "import numpy as np\n",
    "\n",
    "meteorite_landings_np = meteorite_landings.to_numpy();\n",
    "meteorite_landings_np[:,1] = np.vectorize(lambda x: str(x))(meteorite_landings_np[:,1]) \n",
    "data_tups = [tuple(x) for x in meteorite_landings_np]"
   ]
  },
  {
   "cell_type": "code",
   "execution_count": 61,
   "metadata": {
    "id": "upt6kYbI6gPz"
   },
   "outputs": [],
   "source": [
    "# Upload data into table staged in AWS RDS database\n",
    "iq = \"\"\"INSERT INTO meteorite_landings(meteorite_id,region_id,name,year,mass) VALUES(%s, %s, %s, %s, %s);\"\"\"\n",
    "conn, cur = get_conn_cur()\n",
    "cur.executemany(iq, data_tups)\n",
    "conn.commit()\n",
    "cur.close()\n",
    "conn.close()"
   ]
  },
  {
   "cell_type": "code",
   "execution_count": 62,
   "metadata": {
    "id": "AiHTJtE-6pqw"
   },
   "outputs": [
    {
     "data": {
      "text/html": [
       "<div>\n",
       "<style scoped>\n",
       "    .dataframe tbody tr th:only-of-type {\n",
       "        vertical-align: middle;\n",
       "    }\n",
       "\n",
       "    .dataframe tbody tr th {\n",
       "        vertical-align: top;\n",
       "    }\n",
       "\n",
       "    .dataframe thead th {\n",
       "        text-align: right;\n",
       "    }\n",
       "</style>\n",
       "<table border=\"1\" class=\"dataframe\">\n",
       "  <thead>\n",
       "    <tr style=\"text-align: right;\">\n",
       "      <th></th>\n",
       "      <th>meteorite_id</th>\n",
       "      <th>region_id</th>\n",
       "      <th>name</th>\n",
       "      <th>year</th>\n",
       "      <th>mass</th>\n",
       "    </tr>\n",
       "  </thead>\n",
       "  <tbody>\n",
       "    <tr>\n",
       "      <th>0</th>\n",
       "      <td>1</td>\n",
       "      <td>7</td>\n",
       "      <td>Aachen</td>\n",
       "      <td>1880</td>\n",
       "      <td>21.0</td>\n",
       "    </tr>\n",
       "    <tr>\n",
       "      <th>1</th>\n",
       "      <td>2</td>\n",
       "      <td>7</td>\n",
       "      <td>Aarhus</td>\n",
       "      <td>1951</td>\n",
       "      <td>720.0</td>\n",
       "    </tr>\n",
       "    <tr>\n",
       "      <th>2</th>\n",
       "      <td>6</td>\n",
       "      <td>47</td>\n",
       "      <td>Abee</td>\n",
       "      <td>1952</td>\n",
       "      <td>107000.0</td>\n",
       "    </tr>\n",
       "    <tr>\n",
       "      <th>3</th>\n",
       "      <td>10</td>\n",
       "      <td>38</td>\n",
       "      <td>Acapulco</td>\n",
       "      <td>1976</td>\n",
       "      <td>1914.0</td>\n",
       "    </tr>\n",
       "    <tr>\n",
       "      <th>4</th>\n",
       "      <td>370</td>\n",
       "      <td>11</td>\n",
       "      <td>Achiras</td>\n",
       "      <td>1902</td>\n",
       "      <td>780.0</td>\n",
       "    </tr>\n",
       "  </tbody>\n",
       "</table>\n",
       "</div>"
      ],
      "text/plain": [
       "   meteorite_id  region_id      name  year      mass\n",
       "0             1          7    Aachen  1880      21.0\n",
       "1             2          7    Aarhus  1951     720.0\n",
       "2             6         47      Abee  1952  107000.0\n",
       "3            10         38  Acapulco  1976    1914.0\n",
       "4           370         11   Achiras  1902     780.0"
      ]
     },
     "execution_count": 62,
     "metadata": {},
     "output_type": "execute_result"
    }
   ],
   "source": [
    "# Check data was inserted correctly\n",
    "sql_head(table_name='meteorite_landings')"
   ]
  },
  {
   "cell_type": "markdown",
   "metadata": {
    "id": "pX62slOBcG5v"
   },
   "source": [
    "## Example Queries"
   ]
  },
  {
   "cell_type": "code",
   "execution_count": 72,
   "metadata": {
    "id": "Sj50Wn9Xr2L3"
   },
   "outputs": [
    {
     "data": {
      "text/plain": [
       "(['region_id', 'meteorite_landings', 'ufo_sightings'],\n",
       " [(0, 154, 3259),\n",
       "  (5, 254, 6133),\n",
       "  (7, 249, 481),\n",
       "  (10, 507, 107),\n",
       "  (20, 526, 2548),\n",
       "  (24, 101, 2561),\n",
       "  (28, 162, 300),\n",
       "  (29, 138, 529),\n",
       "  (30, 157, 3041),\n",
       "  (38, 256, 3704),\n",
       "  (43, 154, 239)])"
      ]
     },
     "execution_count": 72,
     "metadata": {},
     "output_type": "execute_result"
    }
   ],
   "source": [
    "# Regions with meteorite landings and UFO sightings greater than or equal to 100\n",
    "qs = \"\"\" SELECT * FROM meteorites_and_ufos_by_location\n",
    "            WHERE meteorite_landings >= 100 AND ufo_sightings >= 100\n",
    "            LIMIT 20;\"\"\"\n",
    "run_query(qs)"
   ]
  },
  {
   "cell_type": "code",
   "execution_count": 73,
   "metadata": {
    "id": "GIRsfL1CsaQZ"
   },
   "outputs": [
    {
     "data": {
      "text/plain": [
       "(['latitude', 'longitude'],\n",
       " [(29.883055600000006, -97.94111109999999),\n",
       "  (29.384209999999996, -98.581082),\n",
       "  (53.2, -2.916667),\n",
       "  (28.9783333, -96.64583329999999),\n",
       "  (51.434722, -3.18),\n",
       "  (33.916388899999994, -118.35166670000001),\n",
       "  (51.5, -3.2),\n",
       "  (38.1055556, -98.6597222),\n",
       "  (51.783333, -0.783333),\n",
       "  (29.423888899999998, -98.4933333),\n",
       "  (32.7152778, -117.1563889),\n",
       "  (38.7583333, -104.7425),\n",
       "  (29.763055600000005, -95.3630556),\n",
       "  (32.783333299999995, -96.8),\n",
       "  (29.763055600000005, -95.3630556),\n",
       "  (53.8, -1.583333),\n",
       "  (40.015, -105.27),\n",
       "  (34.1577778, -118.6375),\n",
       "  (29.6158333, -95.5575),\n",
       "  (32.7591667, -97.7969444)])"
      ]
     },
     "execution_count": 73,
     "metadata": {},
     "output_type": "execute_result"
    }
   ],
   "source": [
    "# Latitude and longitude of all UFO sightings in regions with meteorite landings and UFO sightings greater than or equal to 100\n",
    "qs = \"\"\" SELECT latitude, longitude FROM ufos_by_location\n",
    "            WHERE region_id IN (SELECT region_id FROM meteorites_and_ufos_by_location WHERE meteorite_landings >= 100 AND ufo_sightings >= 100)\n",
    "            LIMIT 20;\"\"\"\n",
    "run_query(qs)"
   ]
  },
  {
   "cell_type": "code",
   "execution_count": 74,
   "metadata": {
    "id": "kGNTS9fysgXl"
   },
   "outputs": [
    {
     "data": {
      "text/plain": [
       "(['latitude', 'longitude'],\n",
       " [(50.775, 6.08333),\n",
       "  (56.183330000000005, 10.23333),\n",
       "  (16.883329999999997, -99.9),\n",
       "  (32.1, 71.8),\n",
       "  (44.21667, 0.6166699999999999),\n",
       "  (50.66667, 2.33333),\n",
       "  (29.71667, 77.95),\n",
       "  (44.11667, 4.08333),\n",
       "  (44.65, 11.01667),\n",
       "  (45.821329999999996, 6.0153300000000005),\n",
       "  (51.78333, -1.7833299999999999),\n",
       "  (44.88333, 8.75),\n",
       "  (50.95, 31.816670000000002),\n",
       "  (45.26667, 10.15),\n",
       "  (26.96667, -105.31667),\n",
       "  (27.66667, 78.25),\n",
       "  (26.58333, 85.56667),\n",
       "  (48.7, 37.5),\n",
       "  (20.883329999999997, 76.86667),\n",
       "  (47.46667, -0.55)])"
      ]
     },
     "execution_count": 74,
     "metadata": {},
     "output_type": "execute_result"
    }
   ],
   "source": [
    "# Latitude and longitude of all meteorite landings in regions with meteorite landings and UFO sightings greater than or equal to 100\n",
    "qs = \"\"\" SELECT latitude, longitude FROM meteorites_by_location\n",
    "            WHERE region_id IN (SELECT region_id FROM meteorites_and_ufos_by_location WHERE meteorite_landings >= 100 AND ufo_sightings >= 100)\n",
    "            LIMIT 20;\"\"\"\n",
    "run_query(qs)"
   ]
  },
  {
   "cell_type": "code",
   "execution_count": 93,
   "metadata": {
    "id": "Cw28Hjulr7cd"
   },
   "outputs": [
    {
     "data": {
      "text/plain": [
       "(['ufo_id', 'region_id', 'shape', 'description'],\n",
       " [(378,\n",
       "   0,\n",
       "   'oval',\n",
       "   'The first object was shaped like an oval and appeared coming out the southwest traveling in an eastern direction this object appeared t'),\n",
       "  (490,\n",
       "   0,\n",
       "   'disk',\n",
       "   'October&#44 1961&#44 Tulsa Oklahoma: low altitude&#44 slow&#44 disk object(s); high speed turns&#44 v. high accelleration.'),\n",
       "  (318,\n",
       "   0,\n",
       "   'light',\n",
       "   'Bright light due south&#44 traveling east extremely slowly. Bright flash given off from object every 10 seconds&#44 with a dim flash every 3'),\n",
       "  (363,\n",
       "   0,\n",
       "   'circle',\n",
       "   'Round light appeared to be surrounded by fog&#44 approaced from south neaded NNE&#44 changed speed&#44 then turned sharply west.'),\n",
       "  (459,\n",
       "   0,\n",
       "   'unknown',\n",
       "   'Silent blue and white lights of craft object change color&#44 approach myself and boyfriend&#44 before changing into buzzing&#44 everyday plane'),\n",
       "  (481, 0, 'disk', '1952 daylight sighting of multiple discs in formation'),\n",
       "  (159,\n",
       "   0,\n",
       "   'fireball',\n",
       "   'Extreme sound with trails and orange red blue hues to it.  The trails were bright bright white.'),\n",
       "  (316,\n",
       "   0,\n",
       "   'light',\n",
       "   'Object was at 45 degrees above southern horizon. Being stationary for 5 mins. and then executed some right angle maneuvers. Focal dista'),\n",
       "  (332,\n",
       "   0,\n",
       "   'fireball',\n",
       "   'bright green triangular object throwing sparks traveling extremely fast'),\n",
       "  (346,\n",
       "   0,\n",
       "   'chevron',\n",
       "   'UFO with black exhaust sighted in Independence&#44 MO Oct. 11&#44 2003'),\n",
       "  (386, 0, 'light', 'Fast moving ball of light speeds across the sky.'),\n",
       "  (83, 0, 'unknown', 'Orange object over city.'),\n",
       "  (98,\n",
       "   0,\n",
       "   'light',\n",
       "   '3 bright golden lights moving independently above the tree line flaring and fading intermittently for approx. 15 min.'),\n",
       "  (106,\n",
       "   0,\n",
       "   'rectangle',\n",
       "   'We saw a square object at night&#44  which had 2 blue &amp; 2 red lights at corners&#44 hovering in sky above us.'),\n",
       "  (141,\n",
       "   0,\n",
       "   'light',\n",
       "   'A light moved across the sky in a zig zag way then straightened out and went straight out into space in a matter of seconds.'),\n",
       "  (21, 0, 'light', 'The light chased us.'),\n",
       "  (204, 0, 'unknown', 'In&#39t see nothing in the park'),\n",
       "  (313,\n",
       "   0,\n",
       "   'other',\n",
       "   'About 2030 cst I noticed what apeared to be a &quot;tumbler&quot; a flashing satellite. After observing for approx.10 min. I realized that the ob'),\n",
       "  (64,\n",
       "   0,\n",
       "   'triangle',\n",
       "   'illuminated triangular craft&#44 flying at high speed from South to North'),\n",
       "  (511, 0, 'other', 'Hoseshoe shaped')])"
      ]
     },
     "execution_count": 93,
     "metadata": {},
     "output_type": "execute_result"
    }
   ],
   "source": [
    "# Shape and description of UFO sightings by region\n",
    "qs = \"\"\" SELECT ufo_id, region_id, shape, description FROM ufo_sightings\n",
    "           GROUP BY region_id, ufo_id\n",
    "           ORDER BY region_id ASC\n",
    "           LIMIT 20;\"\"\"\n",
    "run_query(qs)"
   ]
  },
  {
   "cell_type": "code",
   "execution_count": 92,
   "metadata": {
    "id": "ZznD1z74sLbx"
   },
   "outputs": [
    {
     "data": {
      "text/plain": [
       "(['meteorite_id', 'region_id', 'name', 'mass'],\n",
       " [(4890, 0, 'Attica', 5622.0),\n",
       "  (24333, 0, 'Woodward County', 45500.0),\n",
       "  (24202, 0, 'Waldo', 1300.0),\n",
       "  (22588, 0, 'Renfrow', 81600.0),\n",
       "  (12463, 0, 'Lanton', 13780.0),\n",
       "  (24256, 0, 'Wichita', 2367.0),\n",
       "  (12028, 0, 'Independence', 880.0),\n",
       "  (24280, 0, 'Wilmot', 2000.0),\n",
       "  (10868, 0, 'Gaylord', 8480.0),\n",
       "  (10862, 0, 'Garnett', 4788.0),\n",
       "  (12755, 0, 'Leedey', 51500.0),\n",
       "  (5287, 0, 'Cashion', 5896.8),\n",
       "  (18063, 0, 'Oxford', 6000.0),\n",
       "  (23649, 0, 'Smith Center', 1585.0),\n",
       "  (54859, 0, 'Corn', 5176.0),\n",
       "  (45966, 0, 'Kackley', 1368.0),\n",
       "  (5454, 0, 'Cotesfield', 1160.0),\n",
       "  (2331, 0, 'Argonia', 84.0),\n",
       "  (11861, 0, 'Haviland (b)', 2092.0),\n",
       "  (23158, 0, 'Sandy Creek', 1330.0)])"
      ]
     },
     "execution_count": 92,
     "metadata": {},
     "output_type": "execute_result"
    }
   ],
   "source": [
    "# Name and mass of meteorite landings by region\n",
    "qs = \"\"\" SELECT meteorite_id, region_id, name, mass FROM meteorite_landings\n",
    "           GROUP BY region_id, meteorite_id\n",
    "           ORDER BY region_id ASC\n",
    "           LIMIT 20;\"\"\"\n",
    "run_query(qs)"
   ]
  },
  {
   "cell_type": "code",
   "execution_count": 100,
   "metadata": {
    "id": "3uqjttnxsXQr"
   },
   "outputs": [
    {
     "data": {
      "text/plain": [
       "(['ufo_id', 'region_id', 'date', 'shape', 'description'],\n",
       " [(314,\n",
       "   36,\n",
       "   datetime.date(1999, 10, 11),\n",
       "   'cigar',\n",
       "   'oblong&#44 extremely large and  bright object in sky&#44 going behind mountains. Object much larger than a meteorite.'),\n",
       "  (703,\n",
       "   12,\n",
       "   datetime.date(2002, 10, 1),\n",
       "   'teardrop',\n",
       "   'Initially a comet in appearance&#44 but speed was too slow.'),\n",
       "  (715,\n",
       "   30,\n",
       "   datetime.date(2002, 10, 1),\n",
       "   'fireball',\n",
       "   'In October 2002&#44 I was driving east on Interestate 40 (close to mile marker 100)&#44  when I saw a greenish &quot;comet-like&quot; shape movng very'),\n",
       "  (839,\n",
       "   20,\n",
       "   datetime.date(2006, 10, 1),\n",
       "   'circle',\n",
       "   'I was standing on my deck facing east when I saw orange objects fly from north to south. They appeared to maybe be comets but I cannot'),\n",
       "  (1026,\n",
       "   19,\n",
       "   datetime.date(1999, 10, 12),\n",
       "   'fireball',\n",
       "   'I saw a white object shoot across the sky at about 50-100 feet high. Looked like a comet&#44 but was way to close to the ground and was tr'),\n",
       "  (1255,\n",
       "   0,\n",
       "   datetime.date(2000, 10, 13),\n",
       "   'fireball',\n",
       "   'These objects appeared to be meteorites of a very large magnitude.'),\n",
       "  (1308,\n",
       "   24,\n",
       "   datetime.date(2004, 10, 13),\n",
       "   'fireball',\n",
       "   'loud sonic like bang&#44 /two fire balls /comets  ((NUFORC Note:  Possible&#44 though unconfirmed&#44 daytime meteor??  PD))'),\n",
       "  (2473,\n",
       "   13,\n",
       "   datetime.date(2013, 10, 16),\n",
       "   'circle',\n",
       "   'Flash of light than a fast red light across the sky heading southwest.  No tail like a shooting star or comet. Appeared to low and WAY'),\n",
       "  (2656,\n",
       "   36,\n",
       "   datetime.date(2012, 10, 17),\n",
       "   'light',\n",
       "   'Not a shooting star&#44 comet&#44 or flare.'),\n",
       "  (2697,\n",
       "   12,\n",
       "   datetime.date(1998, 10, 18),\n",
       "   'sphere',\n",
       "   'Green comet-like object w/ tail.  (I judge it was a shooting star?&#33) Slow straight fall northeast of city&#44 in the direction of Spokane&#44'),\n",
       "  (2889,\n",
       "   5,\n",
       "   datetime.date(1998, 10, 19),\n",
       "   'sphere',\n",
       "   'Bright green comet streak.'),\n",
       "  (3556,\n",
       "   16,\n",
       "   datetime.date(2012, 10, 21),\n",
       "   'teardrop',\n",
       "   'I saw a neon green white hot and glowing comet or teardrop shaped object falling out of the sky.'),\n",
       "  (3698,\n",
       "   24,\n",
       "   datetime.date(2009, 10, 2),\n",
       "   'light',\n",
       "   'light moving around&#44 green comet.'),\n",
       "  (4211,\n",
       "   36,\n",
       "   datetime.date(1995, 10, 24),\n",
       "   'NaN',\n",
       "   'Man calls to relay sighting of &quot;very large white light in sky.&quot;  Obj. developed &quot;tail like comet.&quot;  Other observers.  Called police.'),\n",
       "  (4316,\n",
       "   5,\n",
       "   datetime.date(2008, 10, 24),\n",
       "   'fireball',\n",
       "   'A comet/firework like ball that separates and reconnects before apparently just disappearing into thin air.'),\n",
       "  (4703,\n",
       "   37,\n",
       "   datetime.date(2004, 10, 26),\n",
       "   'light',\n",
       "   'A light in the sky similiar to Haley&#39s comet during sunset 10/26/04 Tuesday evening around 18:00 hours  ((NUFORC Note:  Star??  PD))'),\n",
       "  (5109,\n",
       "   19,\n",
       "   datetime.date(2007, 10, 28),\n",
       "   'circle',\n",
       "   'Green glowing spear (meteorite I think) fell from the sky.'),\n",
       "  (5167,\n",
       "   30,\n",
       "   datetime.date(2011, 10, 28),\n",
       "   'unknown',\n",
       "   'Three to Five comet-like objects seen descending in the sky east of Scottsdale AZ&#44 directional changes and reigniting flames.'),\n",
       "  (5672,\n",
       "   38,\n",
       "   datetime.date(1997, 10, 31),\n",
       "   'sphere',\n",
       "   'A very dim&#44 round ball of light that moved at a very high speed across the sky--much faster than a jet&#44 but slower than a meteorite.'),\n",
       "  (5721,\n",
       "   0,\n",
       "   datetime.date(2001, 10, 31),\n",
       "   'light',\n",
       "   'orange and blue streak of light going from east to west very low. if it was a meteorite it was very low and very bright. and 8:30 pm wa')])"
      ]
     },
     "execution_count": 100,
     "metadata": {},
     "output_type": "execute_result"
    }
   ],
   "source": [
    "# All descriptions of UFO sightings containing the words asteroid, comet, and meteorite\n",
    "qs = \"\"\" SELECT * FROM ufo_sightings\n",
    "            WHERE description LIKE '%asteroid%' OR description LIKE '%comet%' OR description LIKE '%meteorite%'\n",
    "            LIMIT 20;\"\"\"\n",
    "run_query(qs)"
   ]
  }
 ],
 "metadata": {
  "accelerator": "GPU",
  "colab": {
   "provenance": []
  },
  "gpuClass": "standard",
  "kernelspec": {
   "display_name": "Python 3",
   "language": "python",
   "name": "python3"
  },
  "language_info": {
   "codemirror_mode": {
    "name": "ipython",
    "version": 3
   },
   "file_extension": ".py",
   "mimetype": "text/x-python",
   "name": "python",
   "nbconvert_exporter": "python",
   "pygments_lexer": "ipython3",
   "version": "3.8.2"
  }
 },
 "nbformat": 4,
 "nbformat_minor": 1
}
